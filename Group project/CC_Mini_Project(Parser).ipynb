{
  "nbformat": 4,
  "nbformat_minor": 0,
  "metadata": {
    "colab": {
      "provenance": []
    },
    "kernelspec": {
      "name": "python3",
      "display_name": "Python 3"
    },
    "language_info": {
      "name": "python"
    }
  },
  "cells": [
    {
      "cell_type": "code",
      "source": [
        "input = \"PRINT x = 3 + 2; PRINT y = 4 * (5 + 2);\""
      ],
      "metadata": {
        "id": "V2KcX4CAAZRJ"
      },
      "execution_count": 2,
      "outputs": []
    },
    {
      "cell_type": "code",
      "execution_count": 3,
      "metadata": {
        "id": "6vGqzCbS-72o"
      },
      "outputs": [],
      "source": [
        "# Tokenization of input into a list of tokens\n",
        "\n",
        "tokens = input.split()"
      ]
    },
    {
      "cell_type": "code",
      "source": [
        "# Default Grammar for the language\n",
        "\n",
        "grammar = {\n",
        "    \"program\": [\"statement_list\"],\n",
        "    \"statement_list\": [\"statement\", \"statement_list statement\"],\n",
        "    \"statement\": [\"assignment\", \"print_statement\"],\n",
        "    \"assignment\": [\"identifier = expression\"],\n",
        "    \"print_statement\": [\"PRINT expression\"],\n",
        "    \"expression\": [\"term\", \"expression + term\"],\n",
        "    \"term\": [\"factor\", \"term * factor\"],\n",
        "    \"factor\": [\"identifier\", \"number\", \"( expression )\"],\n",
        "    \"identifier\": [\"[a-zA-Z]+\"],\n",
        "    \"number\": [\"[0-9]+\"]\n",
        "}"
      ],
      "metadata": {
        "id": "a6dtcg7r_bFT"
      },
      "execution_count": 4,
      "outputs": []
    },
    {
      "cell_type": "code",
      "source": [
        "#Error handling and recovery\n",
        "errors = []\n",
        "\n",
        "def rpt_error(msg):\n",
        "    errors.append(msg)\n",
        "\n",
        "def parse_error(expected, found):\n",
        "    rpt_error(f\"Expected {expected}, but found {found}.\")\n"
      ],
      "metadata": {
        "id": "Ek0u6-U6A6t2"
      },
      "execution_count": 6,
      "outputs": []
    },
    {
      "cell_type": "code",
      "source": [
        "# Defining functions for each non-terminal\n",
        "\n",
        "def parse_expression():\n",
        "    # term = parse_term()\n",
        "    if tokens and tokens[0] == \"+\":\n",
        "        tokens.pop(0)\n",
        "        expression = parse_expression()\n",
        "        return (\"ADD\", expression)\n",
        "   # return term"
      ],
      "metadata": {
        "id": "tnhDQevZE8fW"
      },
      "execution_count": 7,
      "outputs": []
    },
    {
      "cell_type": "code",
      "source": [
        "\n",
        "\n",
        "def prs_statement():\n",
        "     if tokens[0] == \"PRINT\":\n",
        "        tokens.pop(0)\n",
        "        expression = parse_expression()\n",
        "        if tokens and tokens[0] == \";\":\n",
        "            tokens.pop(0)\n",
        "        else:\n",
        "            parse_error(\";\", tokens[0])\n",
        "        return (\"PRINT\", expression)\n",
        "     else:\n",
        "        identifier = tokens.pop(0)\n",
        "        if tokens.pop(0) == \"=\":\n",
        "            expression = parse_expression()\n",
        "            if tokens and tokens[0] == \";\":\n",
        "                tokens.pop(0)\n",
        "            else:\n",
        "                parse_error(\";\", tokens[0])\n",
        "            return (\"ASSIGN\", identifier, expression)\n",
        "        else:\n",
        "            parse_error(\"=\", tokens[0])\n",
        "            return None\n",
        ""
      ],
      "metadata": {
        "id": "CpG7Z-ISBHZ5"
      },
      "execution_count": 11,
      "outputs": []
    },
    {
      "cell_type": "code",
      "source": [
        "def prs_statement_list():\n",
        "    statements = []\n",
        "    while tokens:\n",
        "        statement = prs_statement()\n",
        "        if statement is not None:\n",
        "            statements.append(statement)\n",
        "        else:\n",
        "           # Error recovery skips tokens until a valid statement is found\n",
        "            while tokens and tokens[0] != \";\":\n",
        "                tokens.pop(0)\n",
        "        if tokens and tokens[0] == \";\":\n",
        "            tokens.pop(0)\n",
        "    return statements\n"
      ],
      "metadata": {
        "id": "2hAvN5OiD2J8"
      },
      "execution_count": 12,
      "outputs": []
    },
    {
      "cell_type": "code",
      "source": [
        "def prs_program():\n",
        "     return prs_statement_list()"
      ],
      "metadata": {
        "id": "9ZKAGqPYFP-0"
      },
      "execution_count": 15,
      "outputs": []
    },
    {
      "cell_type": "code",
      "source": [
        "# Extensible Grammar - allows users to extend grammar rules\n",
        "\n",
        "def etd_grammar(non_terminal, rule):\n",
        "    if non_terminal in grammar:\n",
        "        grammar[non_terminal].append(rule)\n",
        "    else:\n",
        "        grammar[non_terminal] = [rule]"
      ],
      "metadata": {
        "id": "9FGPnUHIG2qb"
      },
      "execution_count": 14,
      "outputs": []
    },
    {
      "cell_type": "code",
      "source": [
        "# User defined grammar rules\n",
        "\n",
        "etd_grammar(\"expression\", \"factor ^ factor\")"
      ],
      "metadata": {
        "id": "z7VvOIF7HkWp"
      },
      "execution_count": 16,
      "outputs": []
    },
    {
      "cell_type": "code",
      "source": [
        "#Parsing\n",
        "result = prs_program()\n"
      ],
      "metadata": {
        "id": "xewOw630IA-Y"
      },
      "execution_count": 17,
      "outputs": []
    },
    {
      "cell_type": "code",
      "source": [
        "print(\"Parse Tree:\", result)\n",
        "print(\"Errors:\", errors)"
      ],
      "metadata": {
        "colab": {
          "base_uri": "https://localhost:8080/"
        },
        "id": "oibdcT9fIHjG",
        "outputId": "7d16194d-805a-4672-8324-7e0163958054"
      },
      "execution_count": 18,
      "outputs": [
        {
          "output_type": "stream",
          "name": "stdout",
          "text": [
            "Parse Tree: [('ASSIGN', 'x', None)]\n",
            "Errors: ['Expected ;, but found x.', 'Expected ;, but found 3.', 'Expected =, but found 2;.']\n"
          ]
        }
      ]
    },
    {
      "cell_type": "markdown",
      "source": [
        "###### This parser iteratively implements the specified CFG. Each parsing function corresponds to a non-terminal in the CFG, and it tokenizes the input code. While processing the input, the parser constructs a parse tree. The output will be a parse tree containing the code's syntactic structure."
      ],
      "metadata": {
        "id": "ONv5-TrXJYlS"
      }
    }
  ]
}