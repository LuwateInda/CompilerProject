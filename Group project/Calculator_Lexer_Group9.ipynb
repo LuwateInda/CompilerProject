{
  "nbformat": 4,
  "nbformat_minor": 0,
  "metadata": {
    "colab": {
      "provenance": []
    },
    "kernelspec": {
      "name": "python3",
      "display_name": "Python 3"
    },
    "language_info": {
      "name": "python"
    }
  },
  "cells": [
    {
      "cell_type": "code",
      "execution_count": 5,
      "metadata": {
        "colab": {
          "base_uri": "https://localhost:8080/"
        },
        "id": "tlYan2Zm7oOQ",
        "outputId": "0a228dc9-9085-4eb1-f232-5caf6c071ba5"
      },
      "outputs": [
        {
          "output_type": "stream",
          "name": "stdout",
          "text": [
            "Enter a mathematical expression: log(3*2)\n",
            "Tokens: [('log', 'LOG'), ('(', 'LPAREN'), ('3', 'NUMBER'), ('*', 'MULTIPLY'), ('2', 'NUMBER'), (')', 'RPAREN')]\n"
          ]
        }
      ],
      "source": [
        "import re\n",
        "\n",
        "class Lexer:\n",
        "   #initialize Class\n",
        "    def __init__(self, expression):\n",
        "        self.expression = expression\n",
        "        self.tokens = self.tokenize()\n",
        "\n",
        "    def tokenize(self):\n",
        "        token_patterns = [\n",
        "            (r'\\d+', 'NUMBER'),         # Match one or more digits\n",
        "            (r'\\+', 'PLUS'),            # Match the plus operator\n",
        "            (r'-', 'MINUS'),            # Match the minus operator\n",
        "            (r'\\*', 'MULTIPLY'),        # Match the multiplication operator\n",
        "            (r'/', 'DIVIDE'),           # Match the division operator\n",
        "            (r'\\(', 'LPAREN'),          # Match left parenthesis\n",
        "            (r'\\)', 'RPAREN'),          # Match right parenthesis\n",
        "            (r'sin', 'SIN'),            # Match sin function\n",
        "            (r'cos', 'COS'),            # Match cos function\n",
        "            (r'tan', 'TAN'),            # Match tan function\n",
        "            (r'e\\^', 'EXPONENT'),       # Match exponential (e.g., e^x)\n",
        "            (r'log', 'LOG'),            # Match logarithm (e.g., log(x))\n",
        "        ]\n",
        "\n",
        "        tokens = []\n",
        "        i = 0\n",
        "        while i < len(self.expression):\n",
        "            match = None\n",
        "            for pattern, token_type in token_patterns:\n",
        "                regex = re.compile(pattern)\n",
        "                match = regex.match(self.expression, i)\n",
        "                if match:\n",
        "                    value = match.group(0)\n",
        "                    tokens.append((value, token_type))\n",
        "                    i = match.end()\n",
        "                    break\n",
        "\n",
        "            if not match:\n",
        "                raise ValueError(f\"Invalid character: {self.expression[i]}\")\n",
        "\n",
        "        return tokens\n",
        "\n",
        "if __name__ == \"__main__\": #initialize string\n",
        "    expression = input(\"Enter a mathematical expression: \")\n",
        "    lexer = Lexer(expression)\n",
        "    print(\"Tokens:\", lexer.tokens)\n"
      ]
    }
  ]
}